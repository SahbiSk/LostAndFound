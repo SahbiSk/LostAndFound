{
  "nbformat": 4,
  "nbformat_minor": 0,
  "metadata": {
    "kernelspec": {
      "display_name": "Python 3",
      "language": "python",
      "name": "python3"
    },
    "language_info": {
      "codemirror_mode": {
        "name": "ipython",
        "version": 3
      },
      "file_extension": ".py",
      "mimetype": "text/x-python",
      "name": "python",
      "nbconvert_exporter": "python",
      "pygments_lexer": "ipython3",
      "version": "3.8.5"
    },
    "colab": {
      "name": "tp.ipynb",
      "provenance": [],
      "include_colab_link": true
    }
  },
  "cells": [
    {
      "cell_type": "markdown",
      "metadata": {
        "id": "view-in-github",
        "colab_type": "text"
      },
      "source": [
        "<a href=\"https://colab.research.google.com/github/SahbiSk/LostAndFound/blob/master/tp.ipynb\" target=\"_parent\"><img src=\"https://colab.research.google.com/assets/colab-badge.svg\" alt=\"Open In Colab\"/></a>"
      ]
    },
    {
      "cell_type": "markdown",
      "metadata": {
        "id": "cSZ8NrUIjdDm"
      },
      "source": [
        "<h2 style='color:blue' align='center'>Small Image Classification Using Convolutional Neural Network (CNN)</h2>"
      ]
    },
    {
      "cell_type": "markdown",
      "metadata": {
        "id": "7rymAIHmjdDr"
      },
      "source": [
        "In this notebook, we will classify small images cifar10 dataset from tensorflow keras datasets. There are total 10 classes as shown below. We will use CNN for classification"
      ]
    },
    {
      "cell_type": "markdown",
      "metadata": {
        "id": "n2U0WetyjdDs"
      },
      "source": [
        "<img src=\"small_images.jpg\" />"
      ]
    },
    {
      "cell_type": "code",
      "metadata": {
        "id": "DmLTlvzBjdDs"
      },
      "source": [
        "import tensorflow as tf\n",
        "from tensorflow.keras import datasets, layers, models\n",
        "import matplotlib.pyplot as plt\n",
        "import numpy as np"
      ],
      "execution_count": 1,
      "outputs": []
    },
    {
      "cell_type": "markdown",
      "metadata": {
        "id": "PbNNMpNljdDu"
      },
      "source": [
        "<h4 style=\"color:purple\">Load the dataset</h4>"
      ]
    },
    {
      "cell_type": "code",
      "metadata": {
        "colab": {
          "base_uri": "https://localhost:8080/"
        },
        "id": "3p2XcXlkjdDu",
        "outputId": "c82946bd-9265-4ef9-a8cd-b655710f6158"
      },
      "source": [
        "(X_train, y_train), (X_test,y_test) = datasets.cifar10.load_data()\n",
        "X_train.shape"
      ],
      "execution_count": 2,
      "outputs": [
        {
          "output_type": "stream",
          "name": "stdout",
          "text": [
            "Downloading data from https://www.cs.toronto.edu/~kriz/cifar-10-python.tar.gz\n",
            "170500096/170498071 [==============================] - 4s 0us/step\n",
            "170508288/170498071 [==============================] - 4s 0us/step\n"
          ]
        },
        {
          "output_type": "execute_result",
          "data": {
            "text/plain": [
              "(50000, 32, 32, 3)"
            ]
          },
          "metadata": {},
          "execution_count": 2
        }
      ]
    },
    {
      "cell_type": "code",
      "metadata": {
        "colab": {
          "base_uri": "https://localhost:8080/"
        },
        "id": "AwgkKi56jdDv",
        "outputId": "2eba899c-a26f-4097-dbdd-607b3b31a628"
      },
      "source": [
        "X_test.shape"
      ],
      "execution_count": 3,
      "outputs": [
        {
          "output_type": "execute_result",
          "data": {
            "text/plain": [
              "(10000, 32, 32, 3)"
            ]
          },
          "metadata": {},
          "execution_count": 3
        }
      ]
    },
    {
      "cell_type": "markdown",
      "metadata": {
        "id": "1Jt-7MEjjdDw"
      },
      "source": [
        "Here we see there are 50000 training images and 1000 test images"
      ]
    },
    {
      "cell_type": "code",
      "metadata": {
        "colab": {
          "base_uri": "https://localhost:8080/"
        },
        "id": "r7TlL-C_jdDx",
        "outputId": "b51297c6-8c30-4f85-ab76-4c1698e20cdf"
      },
      "source": [
        "y_train.shape"
      ],
      "execution_count": 4,
      "outputs": [
        {
          "output_type": "execute_result",
          "data": {
            "text/plain": [
              "(50000, 1)"
            ]
          },
          "metadata": {},
          "execution_count": 4
        }
      ]
    },
    {
      "cell_type": "code",
      "metadata": {
        "id": "myKkGlYejdDx",
        "colab": {
          "base_uri": "https://localhost:8080/"
        },
        "outputId": "01bdfd8a-d95b-47c5-ee5e-e540e18dc270"
      },
      "source": [
        "y_train[:5]"
      ],
      "execution_count": 5,
      "outputs": [
        {
          "output_type": "execute_result",
          "data": {
            "text/plain": [
              "array([[6],\n",
              "       [9],\n",
              "       [9],\n",
              "       [4],\n",
              "       [1]], dtype=uint8)"
            ]
          },
          "metadata": {},
          "execution_count": 5
        }
      ]
    },
    {
      "cell_type": "markdown",
      "metadata": {
        "id": "BO7CXhfRjdDy"
      },
      "source": [
        "y_train is a 2D array, for our classification having 1D array is good enough. so we will convert this to now 1D array"
      ]
    },
    {
      "cell_type": "code",
      "metadata": {
        "scrolled": true,
        "colab": {
          "base_uri": "https://localhost:8080/"
        },
        "id": "ayXYiAYYjdDy",
        "outputId": "4cdd4686-b605-4f27-caea-106451f6593e"
      },
      "source": [
        "y_train = y_train.reshape(-1,)\n",
        "y_train[:5]"
      ],
      "execution_count": 6,
      "outputs": [
        {
          "output_type": "execute_result",
          "data": {
            "text/plain": [
              "array([6, 9, 9, 4, 1], dtype=uint8)"
            ]
          },
          "metadata": {},
          "execution_count": 6
        }
      ]
    },
    {
      "cell_type": "code",
      "metadata": {
        "id": "1FDLNX31jdDz"
      },
      "source": [
        "y_test = y_test.reshape(-1,)"
      ],
      "execution_count": 7,
      "outputs": []
    },
    {
      "cell_type": "code",
      "metadata": {
        "id": "vgjdFHmqjdDz"
      },
      "source": [
        "classes = [\"airplane\",\"automobile\",\"bird\",\"cat\",\"deer\",\"dog\",\"frog\",\"horse\",\"ship\",\"truck\"]"
      ],
      "execution_count": 8,
      "outputs": []
    },
    {
      "cell_type": "markdown",
      "metadata": {
        "id": "J_Pm44RijdD0"
      },
      "source": [
        "Let's plot some images to see what they are "
      ]
    },
    {
      "cell_type": "code",
      "metadata": {
        "id": "7eZhvEdRjdD0"
      },
      "source": [
        "def plot_sample(X, y, index):\n",
        "    plt.figure(figsize = (15,2))\n",
        "    plt.imshow(X[index])\n",
        "    plt.xlabel(classes[y[index]])"
      ],
      "execution_count": 9,
      "outputs": []
    },
    {
      "cell_type": "code",
      "metadata": {
        "scrolled": true,
        "colab": {
          "base_uri": "https://localhost:8080/",
          "height": 173
        },
        "id": "Vul7BnJtjdD0",
        "outputId": "54f265af-72df-4577-c38e-18223f9a362d"
      },
      "source": [
        "plot_sample(X_train, y_train, 0)"
      ],
      "execution_count": 10,
      "outputs": [
        {
          "output_type": "display_data",
          "data": {
            "image/png": "[encoded data removed]",
            "text/plain": [
              "<Figure size 1080x144 with 1 Axes>"
            ]
          },
          "metadata": {
            "needs_background": "light"
          }
        }
      ]
    },
    {
      "cell_type": "code",
      "metadata": {
        "colab": {
          "base_uri": "https://localhost:8080/",
          "height": 173
        },
        "id": "1kD8xm4ljdD1",
        "outputId": "a2d75deb-47b4-450e-d823-5d28bb8a15d6"
      },
      "source": [
        "plot_sample(X_train, y_train, 1)"
      ],
      "execution_count": 11,
      "outputs": [
        {
          "output_type": "display_data",
          "data": {
            "image/png": "[encoded data removed]",
            "text/plain": [
              "<Figure size 1080x144 with 1 Axes>"
            ]
          },
          "metadata": {
            "needs_background": "light"
          }
        }
      ]
    },
    {
      "cell_type": "markdown",
      "metadata": {
        "id": "KOb4lrxkjdD1"
      },
      "source": [
        "Normalize the images to a number from 0 to 1. Image has 3 channels (R,G,B) and each value in the channel can range from 0 to 255. Hence to normalize in 0-->1 range, we need to divide it by 255"
      ]
    },
    {
      "cell_type": "markdown",
      "metadata": {
        "id": "1Ud9ZGDcjdD1"
      },
      "source": [
        "<h4 style=\"color:purple\">Normalizing the training data</h4>"
      ]
    },
    {
      "cell_type": "code",
      "metadata": {
        "id": "9McnCBXhjdD1"
      },
      "source": [
        "X_train = X_train / 255.0\n",
        "X_test = X_test / 255.0"
      ],
      "execution_count": 12,
      "outputs": []
    },
    {
      "cell_type": "markdown",
      "metadata": {
        "id": "he5lYqgzjdD1"
      },
      "source": [
        "# <h4 style=\"color:purple\"> Partie hethi preprocessing Build simple artificial neural network for image classification</h4>\n"
      ]
    },
    {
      "cell_type": "code",
      "metadata": {
        "scrolled": true,
        "colab": {
          "base_uri": "https://localhost:8080/"
        },
        "id": "IQ6Pw9XZjdD2",
        "outputId": "4dbd6932-7ba9-47aa-e5dd-f31ff279534e"
      },
      "source": [
        "ann = models.Sequential([\n",
        "        layers.Flatten(input_shape=(32,32,3)),\n",
        "        layers.Dense(3000, activation='relu'),\n",
        "        layers.Dense(1000, activation='relu'),\n",
        "        layers.Dense(10, activation='softmax')    \n",
        "    ])\n",
        "\n",
        "ann.compile(optimizer='SGD',\n",
        "              loss='sparse_categorical_crossentropy',\n",
        "              metrics=['accuracy'])\n",
        "\n",
        "ann.fit(X_train, y_train, epochs=5)"
      ],
      "execution_count": 13,
      "outputs": [
        {
          "output_type": "stream",
          "name": "stdout",
          "text": [
            "Epoch 1/5\n",
            "1563/1563 [==============================] - 92s 58ms/step - loss: 1.8139 - accuracy: 0.3576\n",
            "Epoch 2/5\n",
            "1563/1563 [==============================] - 91s 58ms/step - loss: 1.6235 - accuracy: 0.4258\n",
            "Epoch 3/5\n",
            "1563/1563 [==============================] - 91s 58ms/step - loss: 1.5422 - accuracy: 0.4580\n",
            "Epoch 4/5\n",
            "1563/1563 [==============================] - 91s 58ms/step - loss: 1.4811 - accuracy: 0.4778\n",
            "Epoch 5/5\n",
            "1563/1563 [==============================] - 91s 58ms/step - loss: 1.4331 - accuracy: 0.4987\n"
          ]
        },
        {
          "output_type": "execute_result",
          "data": {
            "text/plain": [
              "<keras.callbacks.History at 0x7f88779975d0>"
            ]
          },
          "metadata": {},
          "execution_count": 13
        }
      ]
    },
    {
      "cell_type": "markdown",
      "metadata": {
        "id": "FqZh9aKZjdD2"
      },
      "source": [
        "**You can see that at the end of 5 epochs, accuracy is at around 49%**"
      ]
    },
    {
      "cell_type": "code",
      "metadata": {
        "id": "VXIp1B6-jdD2",
        "colab": {
          "base_uri": "https://localhost:8080/"
        },
        "outputId": "06dd6e43-7dff-4fbf-d23f-8de037b6e618"
      },
      "source": [
        "from sklearn.metrics import confusion_matrix , classification_report\n",
        "import numpy as np\n",
        "y_pred = ann.predict(X_test)\n",
        "y_pred_classes = [np.argmax(element) for element in y_pred]\n",
        "\n",
        "print(\"Classification Report: \\n\", classification_report(y_test, y_pred_classes))"
      ],
      "execution_count": 14,
      "outputs": [
        {
          "output_type": "stream",
          "name": "stdout",
          "text": [
            "Classification Report: \n",
            "               precision    recall  f1-score   support\n",
            "\n",
            "           0       0.45      0.68      0.54      1000\n",
            "           1       0.58      0.61      0.60      1000\n",
            "           2       0.52      0.06      0.11      1000\n",
            "           3       0.39      0.27      0.32      1000\n",
            "           4       0.41      0.36      0.38      1000\n",
            "           5       0.55      0.17      0.26      1000\n",
            "           6       0.50      0.60      0.55      1000\n",
            "           7       0.32      0.77      0.46      1000\n",
            "           8       0.65      0.59      0.62      1000\n",
            "           9       0.55      0.54      0.55      1000\n",
            "\n",
            "    accuracy                           0.47     10000\n",
            "   macro avg       0.49      0.47      0.44     10000\n",
            "weighted avg       0.49      0.47      0.44     10000\n",
            "\n"
          ]
        }
      ]
    },
    {
      "cell_type": "markdown",
      "metadata": {
        "id": "3DchFqDDjdD3"
      },
      "source": [
        "<h4 style=\"color:purple\">Now let us build a convolutional neural network to train our images</h4>"
      ]
    },
    {
      "cell_type": "code",
      "metadata": {
        "id": "I6RP7znujdD3"
      },
      "source": [
        "cnn = models.Sequential([\n",
        "    layers.Conv2D(filters=32, kernel_size=(3, 3), activation='relu', input_shape=(32, 32, 3)),\n",
        "    layers.MaxPooling2D((2, 2)),\n",
        "    \n",
        "    layers.Conv2D(filters=64, kernel_size=(3, 3), activation='relu'),\n",
        "    layers.MaxPooling2D((2, 2)),\n",
        "    \n",
        "    layers.Flatten(),\n",
        "    layers.Dense(64, activation='relu'),\n",
        "    layers.Dense(10, activation='softmax')\n",
        "])"
      ],
      "execution_count": 15,
      "outputs": []
    },
    {
      "cell_type": "code",
      "metadata": {
        "id": "kmsof4h1jdD3"
      },
      "source": [
        "cnn.compile(optimizer='adam',\n",
        "              loss='sparse_categorical_crossentropy',\n",
        "              metrics=['accuracy'])"
      ],
      "execution_count": 16,
      "outputs": []
    },
    {
      "cell_type": "code",
      "metadata": {
        "scrolled": false,
        "id": "lzyW_T7GjdD3",
        "colab": {
          "base_uri": "https://localhost:8080/"
        },
        "outputId": "5411f68c-4e86-4315-bc34-1fba18db2302"
      },
      "source": [
        "cnn.fit(X_train, y_train, epochs=10)"
      ],
      "execution_count": 17,
      "outputs": [
        {
          "output_type": "stream",
          "name": "stdout",
          "text": [
            "Epoch 1/10\n",
            "1563/1563 [==============================] - 58s 37ms/step - loss: 1.4476 - accuracy: 0.4814\n",
            "Epoch 2/10\n",
            "1563/1563 [==============================] - 57s 36ms/step - loss: 1.1017 - accuracy: 0.6149\n",
            "Epoch 3/10\n",
            "1563/1563 [==============================] - 57s 36ms/step - loss: 0.9781 - accuracy: 0.6601\n",
            "Epoch 4/10\n",
            "1563/1563 [==============================] - 57s 36ms/step - loss: 0.8906 - accuracy: 0.6917\n",
            "Epoch 5/10\n",
            "1563/1563 [==============================] - 57s 36ms/step - loss: 0.8153 - accuracy: 0.7187\n",
            "Epoch 6/10\n",
            "1563/1563 [==============================] - 56s 36ms/step - loss: 0.7555 - accuracy: 0.7364\n",
            "Epoch 7/10\n",
            "1563/1563 [==============================] - 56s 36ms/step - loss: 0.6960 - accuracy: 0.7585\n",
            "Epoch 8/10\n",
            "1563/1563 [==============================] - 57s 36ms/step - loss: 0.6551 - accuracy: 0.7727\n",
            "Epoch 9/10\n",
            "1563/1563 [==============================] - 57s 36ms/step - loss: 0.6114 - accuracy: 0.7847\n",
            "Epoch 10/10\n",
            "1563/1563 [==============================] - 56s 36ms/step - loss: 0.5711 - accuracy: 0.7998\n"
          ]
        },
        {
          "output_type": "execute_result",
          "data": {
            "text/plain": [
              "<keras.callbacks.History at 0x7f8874f9a690>"
            ]
          },
          "metadata": {},
          "execution_count": 17
        }
      ]
    },
    {
      "cell_type": "markdown",
      "metadata": {
        "id": "1VVSpUD9jdD3"
      },
      "source": [
        "**With CNN, at the end 5 epochs, accuracy was at around 70% which is a significant improvement over ANN. CNN's are best for image classification and gives superb accuracy. Also computation is much less compared to simple ANN as maxpooling reduces the image dimensions while still preserving the features**"
      ]
    },
    {
      "cell_type": "code",
      "metadata": {
        "scrolled": true,
        "id": "moEJwHZajdD4",
        "colab": {
          "base_uri": "https://localhost:8080/"
        },
        "outputId": "d6096940-263e-41d8-df9f-5a256dcf0c24"
      },
      "source": [
        "cnn.evaluate(X_test,y_test)"
      ],
      "execution_count": 18,
      "outputs": [
        {
          "output_type": "stream",
          "name": "stdout",
          "text": [
            "313/313 [==============================] - 4s 11ms/step - loss: 0.9330 - accuracy: 0.6962\n"
          ]
        },
        {
          "output_type": "execute_result",
          "data": {
            "text/plain": [
              "[0.9330126047134399, 0.6962000131607056]"
            ]
          },
          "metadata": {},
          "execution_count": 18
        }
      ]
    },
    {
      "cell_type": "code",
      "metadata": {
        "id": "gRU2gW7JjdD4",
        "colab": {
          "base_uri": "https://localhost:8080/"
        },
        "outputId": "2a18b132-2bdf-4826-c82f-76beb88b1e6f"
      },
      "source": [
        "y_pred = cnn.predict(X_test)\n",
        "y_pred[:5]"
      ],
      "execution_count": 19,
      "outputs": [
        {
          "output_type": "execute_result",
          "data": {
            "text/plain": [
              "array([[1.21656423e-02, 6.86510248e-05, 8.05791526e-04, 4.21672046e-01,\n",
              "        8.51911784e-04, 4.93509956e-02, 1.36798136e-02, 1.09872967e-03,\n",
              "        4.87753451e-01, 1.25529524e-02],\n",
              "       [3.21368761e-02, 1.02668963e-02, 1.58144985e-06, 8.65297864e-07,\n",
              "        3.03102115e-06, 2.52470436e-08, 1.34881715e-08, 9.81723924e-10,\n",
              "        9.57345545e-01, 2.45126925e-04],\n",
              "       [1.40875101e-01, 1.94743842e-01, 5.40526002e-04, 3.64402146e-03,\n",
              "        1.50485139e-03, 5.11308992e-03, 4.85614548e-03, 5.66830626e-04,\n",
              "        5.89321554e-01, 5.88341057e-02],\n",
              "       [7.05418348e-01, 8.53602600e-04, 1.60542503e-03, 1.91524217e-03,\n",
              "        8.35665874e-03, 2.72630219e-04, 1.82750896e-02, 7.54593711e-05,\n",
              "        2.62149453e-01, 1.07798353e-03],\n",
              "       [1.14554621e-06, 7.95012693e-06, 1.12387817e-02, 3.60011607e-02,\n",
              "        1.31779492e-01, 3.20741441e-03, 8.17737818e-01, 3.65958755e-07,\n",
              "        2.53566486e-05, 4.49271511e-07]], dtype=float32)"
            ]
          },
          "metadata": {},
          "execution_count": 19
        }
      ]
    },
    {
      "cell_type": "code",
      "metadata": {
        "id": "6djsZNuZjdD4",
        "colab": {
          "base_uri": "https://localhost:8080/"
        },
        "outputId": "39f39253-d200-42da-e90e-c8470d2b118a"
      },
      "source": [
        "y_classes = [np.argmax(element) for element in y_pred]\n",
        "y_classes[:5]"
      ],
      "execution_count": 20,
      "outputs": [
        {
          "output_type": "execute_result",
          "data": {
            "text/plain": [
              "[8, 8, 8, 0, 6]"
            ]
          },
          "metadata": {},
          "execution_count": 20
        }
      ]
    },
    {
      "cell_type": "code",
      "metadata": {
        "id": "tG-OI_7ojdD4",
        "colab": {
          "base_uri": "https://localhost:8080/"
        },
        "outputId": "9467669f-4b8f-4b7a-d096-d339d50a4e26"
      },
      "source": [
        "y_test[:5]"
      ],
      "execution_count": 21,
      "outputs": [
        {
          "output_type": "execute_result",
          "data": {
            "text/plain": [
              "array([3, 8, 8, 0, 6], dtype=uint8)"
            ]
          },
          "metadata": {},
          "execution_count": 21
        }
      ]
    },
    {
      "cell_type": "code",
      "metadata": {
        "id": "2numVLlTjdD4",
        "colab": {
          "base_uri": "https://localhost:8080/",
          "height": 173
        },
        "outputId": "8335d277-73c8-4529-ece8-174b2cbda89e"
      },
      "source": [
        "plot_sample(X_test, y_test,9999)"
      ],
      "execution_count": 22,
      "outputs": [
        {
          "output_type": "display_data",
          "data": {
            "image/png": "[encoded data removed]",
            "text/plain": [
              "<Figure size 1080x144 with 1 Axes>"
            ]
          },
          "metadata": {
            "needs_background": "light"
          }
        }
      ]
    },
    {
      "cell_type": "code",
      "metadata": {
        "id": "QGaGdCScjdD5",
        "colab": {
          "base_uri": "https://localhost:8080/",
          "height": 35
        },
        "outputId": "fd60af2d-4270-4c64-c333-3547c0ddba41"
      },
      "source": [
        "classes[y_classes[3]]"
      ],
      "execution_count": 23,
      "outputs": [
        {
          "output_type": "execute_result",
          "data": {
            "application/vnd.google.colaboratory.intrinsic+json": {
              "type": "string"
            },
            "text/plain": [
              "'airplane'"
            ]
          },
          "metadata": {},
          "execution_count": 23
        }
      ]
    },
    {
      "cell_type": "code",
      "metadata": {
        "id": "MnIpDDscjdD5",
        "colab": {
          "base_uri": "https://localhost:8080/",
          "height": 35
        },
        "outputId": "08b4e302-780f-43e2-e413-15535b557e1a"
      },
      "source": [
        "classes[y_classes[10]]"
      ],
      "execution_count": 24,
      "outputs": [
        {
          "output_type": "execute_result",
          "data": {
            "application/vnd.google.colaboratory.intrinsic+json": {
              "type": "string"
            },
            "text/plain": [
              "'airplane'"
            ]
          },
          "metadata": {},
          "execution_count": 24
        }
      ]
    }
  ]
}